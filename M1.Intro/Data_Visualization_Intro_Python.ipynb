{
 "cells": [
  {
   "cell_type": "markdown",
   "metadata": {},
   "source": [
    "# Module 1 Exercises "
   ]
  },
  {
   "cell_type": "markdown",
   "metadata": {},
   "source": [
    "The exercises in this notebook will ask you to plot simple graphs showing the linear relationships between different set of variables. The dataset used in the notebook is about Nutrition data of different food items. There are some of the variables in the dataset which have linear relationships between them."
   ]
  },
  {
   "cell_type": "markdown",
   "metadata": {},
   "source": [
    "Read the data from USDA dataset in `\"/dsa/data/all_datasets/USDA.csv\"` into the dataframe called _USDA_ . "
   ]
  },
  {
   "cell_type": "code",
   "execution_count": 1,
   "metadata": {},
   "outputs": [],
   "source": [
    "import pandas\n",
    "import csv\n",
    "USDA = pandas.read_csv(\"/dsa/data/all_datasets/USDA.csv\", sep=',', delimiter=None)"
   ]
  },
  {
   "cell_type": "code",
   "execution_count": 2,
   "metadata": {},
   "outputs": [
    {
     "data": {
      "text/plain": [
       "pandas.core.frame.DataFrame"
      ]
     },
     "execution_count": 2,
     "metadata": {},
     "output_type": "execute_result"
    }
   ],
   "source": [
    "type(USDA)"
   ]
  },
  {
   "cell_type": "code",
   "execution_count": 3,
   "metadata": {},
   "outputs": [
    {
     "data": {
      "text/html": [
       "<div>\n",
       "<style scoped>\n",
       "    .dataframe tbody tr th:only-of-type {\n",
       "        vertical-align: middle;\n",
       "    }\n",
       "\n",
       "    .dataframe tbody tr th {\n",
       "        vertical-align: top;\n",
       "    }\n",
       "\n",
       "    .dataframe thead th {\n",
       "        text-align: right;\n",
       "    }\n",
       "</style>\n",
       "<table border=\"1\" class=\"dataframe\">\n",
       "  <thead>\n",
       "    <tr style=\"text-align: right;\">\n",
       "      <th></th>\n",
       "      <th>ID</th>\n",
       "      <th>Description</th>\n",
       "      <th>Calories</th>\n",
       "      <th>Protein</th>\n",
       "      <th>TotalFat</th>\n",
       "      <th>Carbohydrate</th>\n",
       "      <th>Sodium</th>\n",
       "      <th>SaturatedFat</th>\n",
       "      <th>Cholesterol</th>\n",
       "      <th>Sugar</th>\n",
       "      <th>Calcium</th>\n",
       "      <th>Iron</th>\n",
       "      <th>Potassium</th>\n",
       "      <th>VitaminC</th>\n",
       "      <th>VitaminE</th>\n",
       "      <th>VitaminD</th>\n",
       "    </tr>\n",
       "  </thead>\n",
       "  <tbody>\n",
       "    <tr>\n",
       "      <th>0</th>\n",
       "      <td>1001</td>\n",
       "      <td>BUTTER,WITH SALT</td>\n",
       "      <td>717.0</td>\n",
       "      <td>0.85</td>\n",
       "      <td>81.11</td>\n",
       "      <td>0.06</td>\n",
       "      <td>714.0</td>\n",
       "      <td>51.368</td>\n",
       "      <td>215.0</td>\n",
       "      <td>0.06</td>\n",
       "      <td>24.0</td>\n",
       "      <td>0.02</td>\n",
       "      <td>24.0</td>\n",
       "      <td>0.0</td>\n",
       "      <td>2.32</td>\n",
       "      <td>1.5</td>\n",
       "    </tr>\n",
       "    <tr>\n",
       "      <th>1</th>\n",
       "      <td>1002</td>\n",
       "      <td>BUTTER,WHIPPED,WITH SALT</td>\n",
       "      <td>717.0</td>\n",
       "      <td>0.85</td>\n",
       "      <td>81.11</td>\n",
       "      <td>0.06</td>\n",
       "      <td>827.0</td>\n",
       "      <td>50.489</td>\n",
       "      <td>219.0</td>\n",
       "      <td>0.06</td>\n",
       "      <td>24.0</td>\n",
       "      <td>0.16</td>\n",
       "      <td>26.0</td>\n",
       "      <td>0.0</td>\n",
       "      <td>2.32</td>\n",
       "      <td>1.5</td>\n",
       "    </tr>\n",
       "    <tr>\n",
       "      <th>2</th>\n",
       "      <td>1003</td>\n",
       "      <td>BUTTER OIL,ANHYDROUS</td>\n",
       "      <td>876.0</td>\n",
       "      <td>0.28</td>\n",
       "      <td>99.48</td>\n",
       "      <td>0.00</td>\n",
       "      <td>2.0</td>\n",
       "      <td>61.924</td>\n",
       "      <td>256.0</td>\n",
       "      <td>0.00</td>\n",
       "      <td>4.0</td>\n",
       "      <td>0.00</td>\n",
       "      <td>5.0</td>\n",
       "      <td>0.0</td>\n",
       "      <td>2.80</td>\n",
       "      <td>1.8</td>\n",
       "    </tr>\n",
       "    <tr>\n",
       "      <th>3</th>\n",
       "      <td>1004</td>\n",
       "      <td>CHEESE,BLUE</td>\n",
       "      <td>353.0</td>\n",
       "      <td>21.40</td>\n",
       "      <td>28.74</td>\n",
       "      <td>2.34</td>\n",
       "      <td>1395.0</td>\n",
       "      <td>18.669</td>\n",
       "      <td>75.0</td>\n",
       "      <td>0.50</td>\n",
       "      <td>528.0</td>\n",
       "      <td>0.31</td>\n",
       "      <td>256.0</td>\n",
       "      <td>0.0</td>\n",
       "      <td>0.25</td>\n",
       "      <td>0.5</td>\n",
       "    </tr>\n",
       "    <tr>\n",
       "      <th>4</th>\n",
       "      <td>1005</td>\n",
       "      <td>CHEESE,BRICK</td>\n",
       "      <td>371.0</td>\n",
       "      <td>23.24</td>\n",
       "      <td>29.68</td>\n",
       "      <td>2.79</td>\n",
       "      <td>560.0</td>\n",
       "      <td>18.764</td>\n",
       "      <td>94.0</td>\n",
       "      <td>0.51</td>\n",
       "      <td>674.0</td>\n",
       "      <td>0.43</td>\n",
       "      <td>136.0</td>\n",
       "      <td>0.0</td>\n",
       "      <td>0.26</td>\n",
       "      <td>0.5</td>\n",
       "    </tr>\n",
       "  </tbody>\n",
       "</table>\n",
       "</div>"
      ],
      "text/plain": [
       "     ID               Description  Calories  Protein  TotalFat  Carbohydrate  \\\n",
       "0  1001          BUTTER,WITH SALT     717.0     0.85     81.11          0.06   \n",
       "1  1002  BUTTER,WHIPPED,WITH SALT     717.0     0.85     81.11          0.06   \n",
       "2  1003      BUTTER OIL,ANHYDROUS     876.0     0.28     99.48          0.00   \n",
       "3  1004               CHEESE,BLUE     353.0    21.40     28.74          2.34   \n",
       "4  1005              CHEESE,BRICK     371.0    23.24     29.68          2.79   \n",
       "\n",
       "   Sodium  SaturatedFat  Cholesterol  Sugar  Calcium  Iron  Potassium  \\\n",
       "0   714.0        51.368        215.0   0.06     24.0  0.02       24.0   \n",
       "1   827.0        50.489        219.0   0.06     24.0  0.16       26.0   \n",
       "2     2.0        61.924        256.0   0.00      4.0  0.00        5.0   \n",
       "3  1395.0        18.669         75.0   0.50    528.0  0.31      256.0   \n",
       "4   560.0        18.764         94.0   0.51    674.0  0.43      136.0   \n",
       "\n",
       "   VitaminC  VitaminE  VitaminD  \n",
       "0       0.0      2.32       1.5  \n",
       "1       0.0      2.32       1.5  \n",
       "2       0.0      2.80       1.8  \n",
       "3       0.0      0.25       0.5  \n",
       "4       0.0      0.26       0.5  "
      ]
     },
     "execution_count": 3,
     "metadata": {},
     "output_type": "execute_result"
    }
   ],
   "source": [
    "USDA.head()"
   ]
  },
  {
   "cell_type": "code",
   "execution_count": 4,
   "metadata": {},
   "outputs": [],
   "source": [
    "USDA = USDA.fillna(method='pad')"
   ]
  },
  {
   "cell_type": "code",
   "execution_count": 5,
   "metadata": {},
   "outputs": [
    {
     "data": {
      "text/plain": [
       "(7058, 16)"
      ]
     },
     "execution_count": 5,
     "metadata": {},
     "output_type": "execute_result"
    }
   ],
   "source": [
    "USDA.shape"
   ]
  },
  {
   "cell_type": "code",
   "execution_count": 6,
   "metadata": {},
   "outputs": [
    {
     "data": {
      "text/plain": [
       "<bound method NDFrame.describe of          ID                                        Description  Calories  \\\n",
       "0      1001                                   BUTTER,WITH SALT     717.0   \n",
       "1      1002                           BUTTER,WHIPPED,WITH SALT     717.0   \n",
       "2      1003                               BUTTER OIL,ANHYDROUS     876.0   \n",
       "3      1004                                        CHEESE,BLUE     353.0   \n",
       "4      1005                                       CHEESE,BRICK     371.0   \n",
       "5      1006                                        CHEESE,BRIE     334.0   \n",
       "6      1007                                   CHEESE,CAMEMBERT     300.0   \n",
       "7      1008                                     CHEESE,CARAWAY     376.0   \n",
       "8      1009                                     CHEESE,CHEDDAR     403.0   \n",
       "9      1010                                    CHEESE,CHESHIRE     387.0   \n",
       "10     1011                                       CHEESE,COLBY     394.0   \n",
       "11     1012                CHEESE,COTTAGE,CRMD,LRG OR SML CURD      98.0   \n",
       "12     1013                        CHEESE,COTTAGE,CRMD,W/FRUIT      97.0   \n",
       "13     1014   CHEESE,COTTAGE,NONFAT,UNCRMD,DRY,LRG OR SML CURD      72.0   \n",
       "14     1015                   CHEESE,COTTAGE,LOWFAT,2% MILKFAT      86.0   \n",
       "15     1016                   CHEESE,COTTAGE,LOWFAT,1% MILKFAT      72.0   \n",
       "16     1017                                       CHEESE,CREAM     342.0   \n",
       "17     1018                                        CHEESE,EDAM     357.0   \n",
       "18     1019                                        CHEESE,FETA     264.0   \n",
       "19     1020                                     CHEESE,FONTINA     389.0   \n",
       "20     1021                                     CHEESE,GJETOST     466.0   \n",
       "21     1022                                       CHEESE,GOUDA     356.0   \n",
       "22     1023                                     CHEESE,GRUYERE     413.0   \n",
       "23     1024                                   CHEESE,LIMBURGER     327.0   \n",
       "24     1025                                    CHEESE,MONTEREY     373.0   \n",
       "25     1026                         CHEESE,MOZZARELLA,WHL MILK     300.0   \n",
       "26     1027                CHEESE,MOZZARELLA,WHL MILK,LO MOIST     318.0   \n",
       "27     1028                   CHEESE,MOZZARELLA,PART SKIM MILK     254.0   \n",
       "28     1029          CHEESE,MOZZARELLA,PART SKIM MILK,LO MOIST     302.0   \n",
       "29     1030                                    CHEESE,MUENSTER     368.0   \n",
       "...     ...                                                ...       ...   \n",
       "7028  43514      FROZEN NOVELTIES,ICE TYPE,POP,W/ LO CAL SWTNR      24.0   \n",
       "7029  43528                               ENSURE PLUS,LIQ NUTR     141.0   \n",
       "7030  43541                               ICE CREAMS,CHOC,RICH     255.0   \n",
       "7031  43543                             MILK,IMITATION,NON-SOY      46.0   \n",
       "7032  43566       SNACKS,TORTILLA CHIPS,LT (BAKED W/ LESS OIL)     465.0   \n",
       "7033  43570  CEREALS RTE,POST,HONEY BUNCHES OF OATS,HONEY RSTD     398.0   \n",
       "7034  43572                         POPCORN,MICROWAVE,LOFAT&NA     429.0   \n",
       "7035  43584                                    AMARANTH FLAKES     353.0   \n",
       "7036  43589                               CHEESE,SWISS,LOW FAT     173.0   \n",
       "7037  43595             BREAKFAST BAR,CORN FLAKE CRUST W/FRUIT     377.0   \n",
       "7038  43597                            CHEESE,MOZZARELLA,LO NA     280.0   \n",
       "7039  43598                           MAYONNAISE DRSNG,NO CHOL     688.0   \n",
       "7040  43599                SALAD DRSNG,MAYO DRSNG,DIET,NO CHOL     390.0   \n",
       "7041  44005                          OIL,CORN,PEANUT,AND OLIVE     884.0   \n",
       "7042  44018                   SWEETENERS,TABLETOP,FRUCTOSE,LIQ     279.0   \n",
       "7043  44048  CHEESE FD,PAST PROCESS,AMERICAN,IMITN,WO/ ADDE...     257.0   \n",
       "7044  44055                                CELERY FLAKES,DRIED     319.0   \n",
       "7045  44061           PUDDINGS,CHOC FLAVOR,LO CAL,INST,DRY MIX     356.0   \n",
       "7046  44110                   JELLIES,RED SUGAR,HOME PRESERVED     179.0   \n",
       "7047  44158                         PIE FILLINGS,BLUEBERRY,CND     181.0   \n",
       "7048  44203               COCKTAIL MIX,NON-ALCOHOLIC,CONCD,FRZ     287.0   \n",
       "7049  44258            PUDDINGS,CHOC FLAVOR,LO CAL,REG,DRY MIX     365.0   \n",
       "7050  44259  PUDDINGS,ALL FLAVORS XCPT CHOC,LO CAL,REG,DRY MIX     351.0   \n",
       "7051  44260  PUDDINGS,ALL FLAVORS XCPT CHOC,LO CAL,INST,DRY...     350.0   \n",
       "7052  48052                                 VITAL WHEAT GLUTEN     370.0   \n",
       "7053  80200                                      FROG LEGS,RAW      73.0   \n",
       "7054  83110                                    MACKEREL,SALTED     305.0   \n",
       "7055  90240                         SCALLOP,(BAY&SEA),CKD,STMD     111.0   \n",
       "7056  90560                                          SNAIL,RAW      90.0   \n",
       "7057  93600                                   TURTLE,GREEN,RAW      89.0   \n",
       "\n",
       "      Protein  TotalFat  Carbohydrate  Sodium  SaturatedFat  Cholesterol  \\\n",
       "0        0.85     81.11          0.06   714.0        51.368        215.0   \n",
       "1        0.85     81.11          0.06   827.0        50.489        219.0   \n",
       "2        0.28     99.48          0.00     2.0        61.924        256.0   \n",
       "3       21.40     28.74          2.34  1395.0        18.669         75.0   \n",
       "4       23.24     29.68          2.79   560.0        18.764         94.0   \n",
       "5       20.75     27.68          0.45   629.0        17.410        100.0   \n",
       "6       19.80     24.26          0.46   842.0        15.259         72.0   \n",
       "7       25.18     29.20          3.06   690.0        18.584         93.0   \n",
       "8       24.90     33.14          1.28   621.0        21.092        105.0   \n",
       "9       23.37     30.60          4.78   700.0        19.475        103.0   \n",
       "10      23.76     32.11          2.57   604.0        20.218         95.0   \n",
       "11      11.12      4.30          3.38   364.0         1.718         17.0   \n",
       "12      10.69      3.85          4.61   344.0         2.311         13.0   \n",
       "13      10.34      0.29          6.66   330.0         0.169          7.0   \n",
       "14      11.83      2.45          3.66   330.0         0.979         10.0   \n",
       "15      12.39      1.02          2.72   406.0         0.645          4.0   \n",
       "16       5.93     34.24          4.07   321.0        19.292        110.0   \n",
       "17      24.99     27.80          1.43   965.0        17.572         89.0   \n",
       "18      14.21     21.28          4.09  1116.0        14.946         89.0   \n",
       "19      25.60     31.14          1.55   800.0        19.196        116.0   \n",
       "20       9.65     29.51         42.65   600.0        19.160         94.0   \n",
       "21      24.94     27.44          2.22   819.0        17.614        114.0   \n",
       "22      29.81     32.34          0.36   336.0        18.913        110.0   \n",
       "23      20.05     27.25          0.49   800.0        16.746         90.0   \n",
       "24      24.48     30.28          0.68   536.0        19.066         89.0   \n",
       "25      22.17     22.35          2.19   627.0        13.152         79.0   \n",
       "26      21.60     24.64          2.47   415.0        15.561         89.0   \n",
       "27      24.26     15.92          2.77   619.0        10.114         64.0   \n",
       "28      25.96     20.03          3.83   652.0        10.877         54.0   \n",
       "29      23.41     30.04          1.12   628.0        19.113         96.0   \n",
       "...       ...       ...           ...     ...           ...          ...   \n",
       "7028     0.00      0.00          5.92    10.0         0.000          0.0   \n",
       "7029     5.16      4.52         19.88    95.0         0.574          2.0   \n",
       "7030     4.72     16.98         20.75    57.0        10.377         60.0   \n",
       "7031     1.60      2.00          5.30    55.0         0.254          0.0   \n",
       "7032     8.70     15.20         73.40   856.0         2.837          3.0   \n",
       "7033     7.10      5.00         83.00   499.0         0.700          0.0   \n",
       "7034    12.60      9.50         73.39   490.0         1.415          0.0   \n",
       "7035    15.54      7.00         71.15    35.0         1.325          0.0   \n",
       "7036    28.40      5.10          3.40   260.0         3.304         35.0   \n",
       "7037     4.40      7.50         72.90   167.0         1.500          0.0   \n",
       "7038    27.50     17.10          3.10    16.0        10.867         54.0   \n",
       "7039     0.00     77.80          0.30   486.0        10.784          0.0   \n",
       "7040     0.90     33.40         23.90   711.0         5.000          0.0   \n",
       "7041     0.00    100.00          0.00     0.0        14.367          0.0   \n",
       "7042     0.00      0.00         76.10     2.0         0.000          0.0   \n",
       "7043     4.08     19.50         16.18  1297.0         7.996          6.0   \n",
       "7044    11.30      2.10         63.70  1435.0         0.555          0.0   \n",
       "7045     5.30      2.40         78.20  2838.0         0.984          0.0   \n",
       "7046     0.30      0.03         46.10     2.0         0.009          0.0   \n",
       "7047     0.41      0.20         44.38    12.0         0.000          0.0   \n",
       "7048     0.08      0.01         71.60     0.0         0.003          0.0   \n",
       "7049    10.08      3.00         74.42  3326.0         1.578          0.0   \n",
       "7050     1.60      0.10         86.04  1765.0         0.018          0.0   \n",
       "7051     0.81      0.90         84.66  4250.0         0.099          0.0   \n",
       "7052    75.16      1.85         13.79    29.0         0.272          0.0   \n",
       "7053    16.40      0.30          0.00    58.0         0.076         50.0   \n",
       "7054    18.50     25.10          0.00  4450.0         7.148         95.0   \n",
       "7055    20.54      0.84          5.41   667.0         0.218         41.0   \n",
       "7056    16.10      1.40          2.00    70.0         0.361         50.0   \n",
       "7057    19.80      0.50          0.00    68.0         0.127         50.0   \n",
       "\n",
       "      Sugar  Calcium   Iron  Potassium  VitaminC  VitaminE  VitaminD  \n",
       "0      0.06     24.0   0.02       24.0       0.0      2.32       1.5  \n",
       "1      0.06     24.0   0.16       26.0       0.0      2.32       1.5  \n",
       "2      0.00      4.0   0.00        5.0       0.0      2.80       1.8  \n",
       "3      0.50    528.0   0.31      256.0       0.0      0.25       0.5  \n",
       "4      0.51    674.0   0.43      136.0       0.0      0.26       0.5  \n",
       "5      0.45    184.0   0.50      152.0       0.0      0.24       0.5  \n",
       "6      0.46    388.0   0.33      187.0       0.0      0.21       0.4  \n",
       "7      0.46    673.0   0.64       93.0       0.0      0.21       0.4  \n",
       "8      0.52    721.0   0.68       98.0       0.0      0.29       0.6  \n",
       "9      0.52    643.0   0.21       95.0       0.0      0.29       0.6  \n",
       "10     0.52    685.0   0.76      127.0       0.0      0.28       0.6  \n",
       "11     2.67     83.0   0.07      104.0       0.0      0.08       0.1  \n",
       "12     2.38     53.0   0.16       90.0       1.4      0.04       0.0  \n",
       "13     1.85     86.0   0.15      137.0       0.0      0.01       0.0  \n",
       "14     3.67     91.0   0.15       84.0       0.0      0.04       0.0  \n",
       "15     2.72     61.0   0.14       86.0       0.0      0.01       0.0  \n",
       "16     3.21     98.0   0.38      138.0       0.0      0.29       0.6  \n",
       "17     1.43    731.0   0.44      188.0       0.0      0.24       0.5  \n",
       "18     4.09    493.0   0.65       62.0       0.0      0.18       0.4  \n",
       "19     1.55    550.0   0.23       64.0       0.0      0.27       0.6  \n",
       "20     1.55    400.0   0.52     1409.0       0.0      0.27       0.6  \n",
       "21     2.22    700.0   0.24      121.0       0.0      0.24       0.5  \n",
       "22     0.36   1011.0   0.17       81.0       0.0      0.28       0.6  \n",
       "23     0.49    497.0   0.13      128.0       0.0      0.23       0.5  \n",
       "24     0.50    746.0   0.72       81.0       0.0      0.26       0.6  \n",
       "25     1.03    505.0   0.44       76.0       0.0      0.19       0.4  \n",
       "26     1.01    575.0   0.20       75.0       0.0      0.21       0.5  \n",
       "27     1.13    782.0   0.22       84.0       0.0      0.14       0.3  \n",
       "28     0.60    731.0   0.25       95.0       0.0      0.37       0.4  \n",
       "29     1.12    717.0   0.41      134.0       0.0      0.26       0.6  \n",
       "...     ...      ...    ...        ...       ...       ...       ...  \n",
       "7028   1.52      0.0   0.67       11.0      10.4      0.00       0.0  \n",
       "7029  19.88     79.0   1.79      175.0      11.9      1.34       1.0  \n",
       "7030  17.35    142.0   1.02      238.0       0.5      0.46       0.3  \n",
       "7031   5.30     82.0   0.10      150.0       0.0      0.00       1.1  \n",
       "7032   0.53    159.0   1.63      272.0       0.2      3.53       0.0  \n",
       "7033  20.30     21.0  36.00      179.0       0.0      0.84       3.3  \n",
       "7034   0.54     11.0   2.28      241.0       0.0      5.01       0.0  \n",
       "7035   0.42     17.0   1.76      353.0       2.5      1.31       0.0  \n",
       "7036   1.33    961.0   0.17      111.0       0.0      0.07       0.1  \n",
       "7037  35.10     41.0   4.86      197.0       0.0      0.76       0.0  \n",
       "7038   1.23    731.0   0.25       95.0       0.0      0.15       0.3  \n",
       "7039   0.30      7.0   0.23       14.0       0.0     11.79       0.0  \n",
       "7040   6.40     14.0   0.20        9.0       0.0      2.06       0.0  \n",
       "7041   0.00      0.0   0.13        0.0       0.0     14.78       0.0  \n",
       "7042  76.00      1.0   0.11        0.0       0.0      0.00       0.0  \n",
       "7043   8.21    649.0   0.68      126.0       0.0      2.15       0.0  \n",
       "7044  35.90    587.0   7.83     4388.0      86.5      5.55       0.0  \n",
       "7045   0.70    126.0   3.11     1279.0       0.0      0.02       0.0  \n",
       "7046  45.30      5.0   0.18       71.0       0.0      0.00       0.0  \n",
       "7047  37.75     27.0   0.80      115.0       0.7      0.23       0.0  \n",
       "7048  48.44      2.0   0.04       23.0       4.2      0.02       0.0  \n",
       "7049   0.70   1512.0   3.87      570.0       0.0      0.02       0.0  \n",
       "7050   2.90     49.0   0.05       18.0       0.0      0.05       0.0  \n",
       "7051   0.90    143.0   0.38       30.0       0.0      0.08       0.0  \n",
       "7052   0.00    142.0   5.20      100.0       0.0      0.00       0.0  \n",
       "7053   0.00     18.0   1.50      285.0       0.0      1.00       0.2  \n",
       "7054   0.00     66.0   1.40      520.0       0.0      2.38      25.2  \n",
       "7055   0.00     10.0   0.58      314.0       0.0      0.00       0.0  \n",
       "7056   0.00     10.0   3.50      382.0       0.0      5.00       0.0  \n",
       "7057   0.00    118.0   1.40      230.0       0.0      0.50       0.0  \n",
       "\n",
       "[7058 rows x 16 columns]>"
      ]
     },
     "execution_count": 6,
     "metadata": {},
     "output_type": "execute_result"
    }
   ],
   "source": [
    "USDA.describe"
   ]
  },
  {
   "cell_type": "code",
   "execution_count": 7,
   "metadata": {},
   "outputs": [],
   "source": [
    "from sklearn import linear_model"
   ]
  },
  {
   "cell_type": "markdown",
   "metadata": {},
   "source": [
    "**Activity 1:** Fit a linear regression model to predict TotalFat using SaturatedFat."
   ]
  },
  {
   "cell_type": "code",
   "execution_count": 8,
   "metadata": {},
   "outputs": [
    {
     "name": "stdout",
     "output_type": "stream",
     "text": [
      "4.049148903940884 [1.85720478]\n"
     ]
    }
   ],
   "source": [
    "# Your code for activity 1 goes here..\n",
    "import numpy as np\n",
    "import matplotlib.pyplot as plt\n",
    "\n",
    "# use linear_model\n",
    "x = USDA[[\"SaturatedFat\"]]\n",
    "y = USDA[\"TotalFat\"]\n",
    "model = linear_model.LinearRegression()\n",
    "results = model.fit(x,y)\n",
    "print (results.intercept_, results.coef_)"
   ]
  },
  {
   "cell_type": "markdown",
   "metadata": {},
   "source": [
    "**Activity 2:** Draw a scatter plot between TotalFat and SaturatedFat and fit a linear regression line predicting TotalFat using SaturatedFat."
   ]
  },
  {
   "cell_type": "code",
   "execution_count": 9,
   "metadata": {},
   "outputs": [
    {
     "name": "stderr",
     "output_type": "stream",
     "text": [
      "/opt/conda/lib/python3.7/site-packages/numpy/core/fromnumeric.py:2223: FutureWarning: Method .ptp is deprecated and will be removed in a future version. Use numpy.ptp instead.\n",
      "  return ptp(axis=axis, out=out, **kwargs)\n"
     ]
    },
    {
     "data": {
      "image/png": "[encoded data removed]",
      "text/plain": [
       "<Figure size 640x480 with 1 Axes>"
      ]
     },
     "metadata": {},
     "output_type": "display_data"
    },
    {
     "data": {
      "text/plain": [
       "<ggplot: (8756519557766)>"
      ]
     },
     "execution_count": 9,
     "metadata": {},
     "output_type": "execute_result"
    }
   ],
   "source": [
    "from plotnine import *\n",
    "p1 = (ggplot(USDA,aes(x=\"SaturatedFat\",y=\"TotalFat\")) \n",
    "      + geom_point(color='darkorange',alpha=2/10)\n",
    "      + theme_bw()\n",
    "      + stat_smooth(method='lm', se=False, color='blue',size=0.5))\n",
    "p1"
   ]
  }
 ],
 "metadata": {
  "kernelspec": {
   "display_name": "Python 3",
   "language": "python",
   "name": "python3"
  },
  "language_info": {
   "codemirror_mode": {
    "name": "ipython",
    "version": 3
   },
   "file_extension": ".py",
   "mimetype": "text/x-python",
   "name": "python",
   "nbconvert_exporter": "python",
   "pygments_lexer": "ipython3",
   "version": "3.7.1"
  }
 },
 "nbformat": 4,
 "nbformat_minor": 2
}
